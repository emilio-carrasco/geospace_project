{
 "cells": [
  {
   "cell_type": "code",
   "execution_count": 1,
   "id": "ahead-burning",
   "metadata": {
    "scrolled": true,
    "tags": []
   },
   "outputs": [
    {
     "output_type": "error",
     "ename": "TypeError",
     "evalue": "'NoneType' object is not subscriptable",
     "traceback": [
      "\u001b[0;31m---------------------------------------------------------------------------\u001b[0m",
      "\u001b[0;31mTypeError\u001b[0m                                 Traceback (most recent call last)",
      "\u001b[0;32m<ipython-input-1-929707ba4059>\u001b[0m in \u001b[0;36m<module>\u001b[0;34m\u001b[0m\n\u001b[1;32m     27\u001b[0m \u001b[0ml_air\u001b[0m\u001b[0;34m=\u001b[0m\u001b[0mranking_foursquares\u001b[0m\u001b[0;34m(\u001b[0m\u001b[0ml_g\u001b[0m\u001b[0;34m,\u001b[0m\u001b[0;34m\"aeropuerto\"\u001b[0m\u001b[0;34m,\u001b[0m\u001b[0mlimit\u001b[0m\u001b[0;34m)\u001b[0m\u001b[0;34m\u001b[0m\u001b[0;34m\u001b[0m\u001b[0m\n\u001b[1;32m     28\u001b[0m \u001b[0ml_disco\u001b[0m\u001b[0;34m=\u001b[0m\u001b[0mranking_foursquares\u001b[0m\u001b[0;34m(\u001b[0m\u001b[0ml_air\u001b[0m\u001b[0;34m,\u001b[0m\u001b[0;34m\"bar\"\u001b[0m\u001b[0;34m,\u001b[0m\u001b[0mlimit\u001b[0m\u001b[0;34m)\u001b[0m\u001b[0;34m\u001b[0m\u001b[0;34m\u001b[0m\u001b[0m\n\u001b[0;32m---> 29\u001b[0;31m \u001b[0ml_vegan\u001b[0m\u001b[0;34m=\u001b[0m\u001b[0mranking_foursquares\u001b[0m\u001b[0;34m(\u001b[0m\u001b[0ml_disco\u001b[0m\u001b[0;34m,\u001b[0m\u001b[0;34m\"restaurante vegano\"\u001b[0m\u001b[0;34m,\u001b[0m\u001b[0mlimit\u001b[0m\u001b[0;34m)\u001b[0m\u001b[0;34m\u001b[0m\u001b[0;34m\u001b[0m\u001b[0m\n\u001b[0m\u001b[1;32m     30\u001b[0m \u001b[0ml_basket\u001b[0m\u001b[0;34m=\u001b[0m\u001b[0mranking_foursquares\u001b[0m\u001b[0;34m(\u001b[0m\u001b[0ml_vegan\u001b[0m\u001b[0;34m,\u001b[0m\u001b[0;34m\"estadio de baloncesto\"\u001b[0m\u001b[0;34m,\u001b[0m\u001b[0mlimit\u001b[0m\u001b[0;34m)\u001b[0m\u001b[0;34m\u001b[0m\u001b[0;34m\u001b[0m\u001b[0m\n\u001b[1;32m     31\u001b[0m \u001b[0ml_dog\u001b[0m\u001b[0;34m=\u001b[0m\u001b[0mranking_foursquares\u001b[0m\u001b[0;34m(\u001b[0m\u001b[0ml_basket\u001b[0m\u001b[0;34m,\u001b[0m\u001b[0;34m\"peluqueria perros\"\u001b[0m\u001b[0;34m,\u001b[0m\u001b[0mlimit\u001b[0m\u001b[0;34m)\u001b[0m\u001b[0;34m\u001b[0m\u001b[0;34m\u001b[0m\u001b[0m\n",
      "\u001b[0;32m/mnt/c/Users/emili/Ironhack/mis_proyectos/geospace_project/libs/lib_ranking.py\u001b[0m in \u001b[0;36mranking_foursquares\u001b[0;34m(candidatos, busqueda, n)\u001b[0m\n\u001b[1;32m     21\u001b[0m \u001b[0;32mdef\u001b[0m \u001b[0mranking_foursquares\u001b[0m\u001b[0;34m(\u001b[0m\u001b[0mcandidatos\u001b[0m\u001b[0;34m,\u001b[0m\u001b[0mbusqueda\u001b[0m\u001b[0;34m,\u001b[0m\u001b[0mn\u001b[0m\u001b[0;34m)\u001b[0m\u001b[0;34m:\u001b[0m\u001b[0;34m\u001b[0m\u001b[0;34m\u001b[0m\u001b[0m\n\u001b[1;32m     22\u001b[0m     \u001b[0;32mfor\u001b[0m \u001b[0mi\u001b[0m\u001b[0;34m,\u001b[0m \u001b[0mofi\u001b[0m \u001b[0;32min\u001b[0m \u001b[0menumerate\u001b[0m\u001b[0;34m(\u001b[0m\u001b[0mcandidatos\u001b[0m\u001b[0;34m)\u001b[0m\u001b[0;34m:\u001b[0m\u001b[0;34m\u001b[0m\u001b[0;34m\u001b[0m\u001b[0m\n\u001b[0;32m---> 23\u001b[0;31m         \u001b[0mlista_fs\u001b[0m\u001b[0;34m=\u001b[0m\u001b[0mfoursquare\u001b[0m\u001b[0;34m(\u001b[0m\u001b[0mofi\u001b[0m\u001b[0;34m,\u001b[0m\u001b[0mbusqueda\u001b[0m\u001b[0;34m,\u001b[0m\u001b[0mn\u001b[0m\u001b[0;34m)\u001b[0m\u001b[0;34m\u001b[0m\u001b[0;34m\u001b[0m\u001b[0m\n\u001b[0m\u001b[1;32m     24\u001b[0m         \u001b[0mbusque_no_espacios\u001b[0m\u001b[0;34m=\u001b[0m\u001b[0mbusqueda\u001b[0m\u001b[0;34m.\u001b[0m\u001b[0mreplace\u001b[0m\u001b[0;34m(\u001b[0m\u001b[0;34m\" \"\u001b[0m\u001b[0;34m,\u001b[0m\u001b[0;34m\"_\"\u001b[0m\u001b[0;34m)\u001b[0m\u001b[0;34m\u001b[0m\u001b[0;34m\u001b[0m\u001b[0m\n\u001b[1;32m     25\u001b[0m         \u001b[0mcandidatos\u001b[0m\u001b[0;34m[\u001b[0m\u001b[0mi\u001b[0m\u001b[0;34m]\u001b[0m\u001b[0;34m[\u001b[0m\u001b[0mbusque_no_espacios\u001b[0m\u001b[0;34m]\u001b[0m\u001b[0;34m=\u001b[0m\u001b[0mcalculate_inv_distances_indv\u001b[0m\u001b[0;34m(\u001b[0m\u001b[0mofi\u001b[0m\u001b[0;34m,\u001b[0m\u001b[0mlista_fs\u001b[0m\u001b[0;34m)\u001b[0m\u001b[0;34m\u001b[0m\u001b[0;34m\u001b[0m\u001b[0m\n",
      "\u001b[0;32m/mnt/c/Users/emili/Ironhack/mis_proyectos/geospace_project/libs/lib_api.py\u001b[0m in \u001b[0;36mfoursquare\u001b[0;34m(coord, query, limit)\u001b[0m\n\u001b[1;32m     30\u001b[0m     \u001b[0mresp\u001b[0m \u001b[0;34m=\u001b[0m \u001b[0mrequests\u001b[0m\u001b[0;34m.\u001b[0m\u001b[0mget\u001b[0m\u001b[0;34m(\u001b[0m\u001b[0murl\u001b[0m\u001b[0;34m=\u001b[0m \u001b[0murl_query\u001b[0m\u001b[0;34m,\u001b[0m \u001b[0mparams\u001b[0m \u001b[0;34m=\u001b[0m \u001b[0mparametros\u001b[0m\u001b[0;34m)\u001b[0m\u001b[0;34m.\u001b[0m\u001b[0mjson\u001b[0m\u001b[0;34m(\u001b[0m\u001b[0;34m)\u001b[0m\u001b[0;34m\u001b[0m\u001b[0;34m\u001b[0m\u001b[0m\n\u001b[1;32m     31\u001b[0m \u001b[0;34m\u001b[0m\u001b[0m\n\u001b[0;32m---> 32\u001b[0;31m     \u001b[0mdata\u001b[0m \u001b[0;34m=\u001b[0m \u001b[0mresp\u001b[0m\u001b[0;34m.\u001b[0m\u001b[0mget\u001b[0m\u001b[0;34m(\u001b[0m\u001b[0;34m\"response\"\u001b[0m\u001b[0;34m)\u001b[0m\u001b[0;34m.\u001b[0m\u001b[0mget\u001b[0m\u001b[0;34m(\u001b[0m\u001b[0;34m\"groups\"\u001b[0m\u001b[0;34m)\u001b[0m\u001b[0;34m[\u001b[0m\u001b[0;36m0\u001b[0m\u001b[0;34m]\u001b[0m\u001b[0;34m.\u001b[0m\u001b[0mget\u001b[0m\u001b[0;34m(\u001b[0m\u001b[0;34m\"items\"\u001b[0m\u001b[0;34m)\u001b[0m\u001b[0;34m\u001b[0m\u001b[0;34m\u001b[0m\u001b[0m\n\u001b[0m\u001b[1;32m     33\u001b[0m \u001b[0;34m\u001b[0m\u001b[0m\n\u001b[1;32m     34\u001b[0m     \u001b[0mmapa_latitud\u001b[0m \u001b[0;34m=\u001b[0m \u001b[0;34m[\u001b[0m\u001b[0;34m\"venue\"\u001b[0m\u001b[0;34m,\u001b[0m \u001b[0;34m\"location\"\u001b[0m\u001b[0;34m,\u001b[0m \u001b[0;34m\"lat\"\u001b[0m\u001b[0;34m]\u001b[0m\u001b[0;34m\u001b[0m\u001b[0;34m\u001b[0m\u001b[0m\n",
      "\u001b[0;31mTypeError\u001b[0m: 'NoneType' object is not subscriptable"
     ]
    }
   ],
   "source": [
    "import sys\n",
    "sys.path.append('./libs')\n",
    "from lib_ranking import ranking1M, ranking_design, ranking_foursquares\n",
    "from lib_calculus import score_normalizer, selector, top \n",
    "#from lib_visual import visual_kepler\n",
    "from lib_json import save_json\n",
    "from math import ceil\n",
    "\n",
    "\n",
    "#en primer lugar sacamos las compañías del criterio 1M\n",
    "l1=ranking1M('companies')\n",
    "#y las cotejamos con compañías de diseño de la BD\n",
    "l2=ranking_design(l1,\"design\")\n",
    "\n",
    "#nos quedaremos con los 20 mejores candidatos\n",
    "num_candidatos = 20\n",
    "#normalizamos las puntuaciones obtenidas\n",
    "score_normalizado=score_normalizer(l2,'companies',\"design\")\n",
    "#damos más importancia a que haya compñías que diseño\n",
    "score_pesos=selector(score_normalizado,companies=100,design=70)\n",
    "#filtramos los 20 primeros\n",
    "seleccion_top=top(num_candidatos,score_pesos,\"score\")\n",
    "#guardamos en archivo\n",
    "save_json(seleccion_top,'./json','candidates')\n",
    "\n",
    "limit=50\n",
    "\n",
    "#hacemos sucesivas llamadas a la api para cada uno de los filtros. \n",
    "#limitamos al máximo: 50 resultados\n",
    "l_sb=ranking_foursquares(seleccion_top,\"starbucks\",limit)\n",
    "l_g=ranking_foursquares(l_sb,\"colegio\",limit)\n",
    "l_air=ranking_foursquares(l_g,\"aeropuerto\",limit)\n",
    "l_disco=ranking_foursquares(l_air,\"bar\",limit)\n",
    "l_vegan=ranking_foursquares(l_disco,\"restaurante vegano\",limit)\n",
    "l_basket=ranking_foursquares(l_vegan,\"estadio de baloncesto\",limit)\n",
    "l_dog=ranking_foursquares(l_basket,\"peluqueria perros\",limit)\n",
    "#normalizamos las puntuaciones\n",
    "score=score_normalizer(l_dog,'companies',\"design\",\"starbucks\",\"colegio\",\"aeropuerto\",\"bar\",\"restaurante_vegano\",\"estadio_de_baloncesto\",\"peluqueria_perros\")\n",
    "#salvamos las puntuaciones a un archivo\n",
    "save_json(score,'./json','score')\n",
    "\n",
    "\n"
   ]
  },
  {
   "cell_type": "code",
   "execution_count": 1,
   "id": "impossible-buyer",
   "metadata": {},
   "outputs": [],
   "source": [
    "#vuelvo a llamar a algunas libs por si quiero ejecutar solo desde aquí sin llamadas a apis\n",
    "import sys\n",
    "sys.path.append('./libs')\n",
    "from lib_calculus import score_normalizer, selector, top \n",
    "from lib_json import open_json, save_json\n",
    "\n",
    "#recuperamos las puntuaciones de su archivos\n",
    "score=open_json('./json/score.json')\n",
    "#ponderamos en funcion de lo que quiera especificamente el clientes\n",
    "eleccion=selector(score,companies=100, design=70, starbucks=60, colegio=50, aeropuerto=30, bar=40, restaurante_vegano=80,estadio_de_baloncesto=50, peluqueria_perros= 50)\n",
    "#salvamos las puntuaciones finas\n",
    "save_json(eleccion,'./json','final_scores')\n",
    "#elegimos los tres mejores para dar 3 opciones\n",
    "top3=top(3,eleccion,\"score\")\n",
    "#salvamos estamos opciones en un archivo\n",
    "save_json(top3,'./json','top3')\n",
    "\n",
    "\n",
    "\n"
   ]
  },
  {
   "cell_type": "code",
   "execution_count": null,
   "metadata": {},
   "outputs": [],
   "source": []
  }
 ],
 "metadata": {
  "kernelspec": {
   "display_name": "geo",
   "language": "python",
   "name": "geo"
  },
  "language_info": {
   "codemirror_mode": {
    "name": "ipython",
    "version": 3
   },
   "file_extension": ".py",
   "mimetype": "text/x-python",
   "name": "python",
   "nbconvert_exporter": "python",
   "pygments_lexer": "ipython3",
   "version": "3.8.5-final"
  }
 },
 "nbformat": 4,
 "nbformat_minor": 5
}