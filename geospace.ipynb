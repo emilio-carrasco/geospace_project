{
 "cells": [
  {
   "cell_type": "code",
   "execution_count": 1,
   "id": "ahead-burning",
   "metadata": {
    "scrolled": true,
    "tags": []
   },
   "outputs": [
    {
     "output_type": "stream",
     "name": "stdout",
     "text": [
      "{'tipo_p': {'type': 'Point', 'coordinates': [37.764726, -122.394523]}, 'dist1m': 56.99, 'design': 47.54, 'starbucks': 145.89}\n"
     ]
    }
   ],
   "source": [
    "import sys\n",
    "sys.path.append('./libs')\n",
    "from lib_clean import ranking1M,ranking_design,ranking_foursquares\n",
    "\n",
    "lista_con_distancia1m=ranking1M()\n",
    "oficinas_dist_design=ranking_design(lista_con_distancia1m)\n",
    "\n",
    "oficinas_dist_design_sb=ranking_foursquares(oficinas_dist_design,\"starbucks\")\n",
    "\n",
    "oficinas_dist_design_sb_guarde=ranking_foursquares(oficinas_dist_design_sb,\"guarderia\")\n",
    "\n",
    "oficinas_dist_design_sb_guarde_aero=ranking_foursquares(oficinas_dist_design_sb_guarde,\"aeropuerto\")\n",
    "\n",
    "oficinas_dist_design_sb_guarde_aero_pub=ranking_foursquares(oficinas_dist_design_sb_guarde_aero,\"disco\")\n",
    "\n",
    "oficinas_dist_design_sb_guarde_aero_pub_vegan=ranking_foursquares(oficinas_dist_design_sb_guarde_aero_pub,\"restaurante vegano\")\n",
    "\n",
    "oficinas_dist_design_sb_guarde_aero_pub_vegan_basket=ranking_foursquares(oficinas_dist_design_sb_guarde_aero_pub_vegan,\"estadio de baloncesto\")\n",
    "\n",
    "final_score=ranking_foursquares(oficinas_dist_design_sb_guarde_aero_pub_vegan,\"peluquería canina\")\n",
    "\n",
    "final_score[0]\n",
    "\n",
    "\n",
    "\n",
    "\n"
   ]
  },
  {
   "cell_type": "code",
   "execution_count": null,
   "metadata": {},
   "outputs": [],
   "source": []
  }
 ],
 "metadata": {
  "kernelspec": {
   "display_name": "geo",
   "language": "python",
   "name": "geo"
  },
  "language_info": {
   "codemirror_mode": {
    "name": "ipython",
    "version": 3
   },
   "file_extension": ".py",
   "mimetype": "text/x-python",
   "name": "python",
   "nbconvert_exporter": "python",
   "pygments_lexer": "ipython3",
   "version": "3.8.5-final"
  }
 },
 "nbformat": 4,
 "nbformat_minor": 5
}