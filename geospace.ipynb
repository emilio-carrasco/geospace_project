{
 "cells": [
  {
   "cell_type": "code",
   "execution_count": 1,
   "id": "ahead-burning",
   "metadata": {
    "scrolled": true,
    "tags": []
   },
   "outputs": [],
   "source": [
    "import sys\n",
    "sys.path.append('./libs')\n",
    "from lib_ranking import ranking1M, ranking_design, ranking_foursquares\n",
    "from lib_calculus import score_normalizer, selector, top \n",
    "#from lib_visual import visual_kepler\n",
    "from lib_json import save_json\n",
    "from math import ceil\n",
    "\n",
    "l1=ranking1M('companies')\n",
    "\n",
    "\n",
    "\n",
    "l2=ranking_design(l1,\"design\")\n",
    "\n",
    "\n",
    "num_candidatos = 20\n",
    "\n",
    "score_normalizado=score_normalizer(l2,'companies',\"design\")\n",
    "score_pesos=selector(score_normalizado,companies=70,design=30)\n",
    "seleccion_top=top(num_candidatos,score_pesos,\"score\")\n",
    "save_json(seleccion_top,'./json','candidates')\n",
    "\n",
    "limit=50\n",
    "\n",
    "l_sb=ranking_foursquares(seleccion_top,\"starbucks\",limit)\n",
    "l_g=ranking_foursquares(l_sb,\"colegio\",limit)\n",
    "l_air=ranking_foursquares(l_g,\"aeropuerto\",limit)\n",
    "l_disco=ranking_foursquares(l_air,\"bar\",limit)\n",
    "l_vegan=ranking_foursquares(l_disco,\"restaurante vegano\",limit)\n",
    "l_basket=ranking_foursquares(l_vegan,\"estadio de baloncesto\",limit)\n",
    "l_dog=ranking_foursquares(l_basket,\"peluqueria perros\",limit)\n",
    "\n",
    "score=score_normalizer(l_dog,'companies',\"design\",\"starbucks\",\"colegio\",\"aeropuerto\",\"bar\",\"restaurante_vegano\",\"estadio_de_baloncesto\",\"peluqueria_perros\")\n",
    "save_json(score,'./json','score')\n",
    "\n",
    "\n"
   ]
  },
  {
   "cell_type": "code",
   "execution_count": 2,
   "id": "impossible-buyer",
   "metadata": {},
   "outputs": [],
   "source": [
    "#vuelvo a llamar a algunas libs por si quiero ejecutar solo desde aquí sin llamadas a apis\n",
    "\n",
    "import sys\n",
    "sys.path.append('./libs')\n",
    "from lib_calculus import score_normalizer, selector, top \n",
    "from lib_json import open_json, save_json\n",
    "\n",
    "score=open_json('./json/score.json')\n",
    "eleccion=selector(score,companies=20, design=10, starbucks=10, colegio=10, aeropuerto=20, bar=0, restaurante_vegano=0,estadio_de_baloncesto=10, peluqueria_perros= 10)\n",
    "save_json(eleccion,'./json','eleccion')\n",
    "\n",
    "top3=top(10,eleccion,\"score\")\n",
    "\n",
    "save_json(top3,'./json','top3')\n",
    "\n",
    "\n",
    "\n"
   ]
  },
  {
   "cell_type": "code",
   "execution_count": null,
   "metadata": {},
   "outputs": [],
   "source": []
  }
 ],
 "metadata": {
  "kernelspec": {
   "display_name": "geo",
   "language": "python",
   "name": "geo"
  },
  "language_info": {
   "codemirror_mode": {
    "name": "ipython",
    "version": 3
   },
   "file_extension": ".py",
   "mimetype": "text/x-python",
   "name": "python",
   "nbconvert_exporter": "python",
   "pygments_lexer": "ipython3",
   "version": "3.8.5-final"
  }
 },
 "nbformat": 4,
 "nbformat_minor": 5
}