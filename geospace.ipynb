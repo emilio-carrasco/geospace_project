{
 "cells": [
  {
   "cell_type": "code",
   "execution_count": 1,
   "id": "ahead-burning",
   "metadata": {
    "scrolled": true,
    "tags": []
   },
   "outputs": [],
   "source": [
    "import sys\n",
    "sys.path.append('./libs')\n",
    "from lib_ranking import ranking1M, ranking_design, ranking_foursquares\n",
    "from lib_calculus import score_normalizer, selector, top \n",
    "#from lib_visual import visual_kepler\n",
    "from lib_json import save_json\n",
    "from math import ceil\n",
    "\n",
    "l1=ranking1M('companies')\n",
    "save_json(l1,'./json','companies')\n",
    "\n",
    "\n",
    "l2=ranking_design(l1,\"design\")\n",
    "save_json(l2,'./json','design')\n",
    "\n",
    "num_candidatos = 15\n",
    "\n",
    "score_normalizado=score_normalizer(l2,'companies',\"design\")\n",
    "score_pesos=selector(score_normalizado,companies=100,design=50)\n",
    "seleccion_top=top(num_candidatos,score_pesos,\"score\")\n",
    "save_json(seleccion_top,'./json','candidates')\n",
    "\n",
    "limit=50\n",
    "\n",
    "l_sb=ranking_foursquares(seleccion_top,\"starbucks\",limit)\n",
    "save_json(l_sb,'./json','starbucks')\n",
    "\n",
    "l_g=ranking_foursquares(l_sb,\"escuela primaria\",limit)\n",
    "save_json(l_g,'./json','guarderia')\n",
    "\n",
    "\n",
    "l_air=ranking_foursquares(l_g,\"aeropuerto\",limit)\n",
    "save_json(l_air,'./json','airport')\n",
    "\n",
    "l_disco=ranking_foursquares(l_air,\"disco\",limit)\n",
    "save_json(l_disco,'./json','disco')\n",
    "\n",
    "\n",
    "l_vegan=ranking_foursquares(l_disco,\"restaurante vegano\",limit)\n",
    "save_json(l_vegan,'./json','vegan')\n",
    "\n",
    "l_basket=ranking_foursquares(l_vegan,\"estadio de baloncesto\",limit)\n",
    "save_json(l_basket,'./json','basket')\n",
    "\n",
    "l_dog=ranking_foursquares(l_basket,\"peluqueria perros\",limit)\n",
    "save_json(l_dog,'./json','dog')\n",
    "\n",
    "score=score_normalizer(l_dog,'companies',\"design\",\"starbucks\",\"escuela_primaria\",\"aeropuerto\",\"disco\",\"restaurante_vegano\",\"estadio_de_baloncesto\",\"peluqueria_perros\")\n",
    "save_json(score,'./json','score')\n",
    "\n",
    "\n"
   ]
  },
  {
   "cell_type": "code",
   "execution_count": 2,
   "id": "impossible-buyer",
   "metadata": {},
   "outputs": [],
   "source": [
    "\n",
    "eleccion=selector(score,companies=10, design=60, starbucks=10, escuela_primaria=90, aeropuerto=90, disco=10, restaurante_vegano=10,estadio_de_baloncesto=30, peluqueria_perros= 30)\n",
    "top3=top(3,eleccion,\"score\")\n",
    "\n",
    "save_json(top3,'./json','top3')\n",
    "\n",
    "\n",
    "\n"
   ]
  },
  {
   "cell_type": "code",
   "execution_count": null,
   "metadata": {},
   "outputs": [],
   "source": []
  }
 ],
 "metadata": {
  "kernelspec": {
   "display_name": "geo",
   "language": "python",
   "name": "geo"
  },
  "language_info": {
   "codemirror_mode": {
    "name": "ipython",
    "version": 3
   },
   "file_extension": ".py",
   "mimetype": "text/x-python",
   "name": "python",
   "nbconvert_exporter": "python",
   "pygments_lexer": "ipython3",
   "version": "3.8.5-final"
  }
 },
 "nbformat": 4,
 "nbformat_minor": 5
}