{
 "cells": [
  {
   "cell_type": "code",
   "execution_count": 1,
   "id": "sized-paste",
   "metadata": {
    "tags": []
   },
   "outputs": [
    {
     "output_type": "stream",
     "name": "stdout",
     "text": [
      "User Guide: https://docs.kepler.gl/docs/keplergl-jupyter\n"
     ]
    }
   ],
   "source": [
    "import sys\n",
    "sys.path.append('./libs')\n",
    "\n",
    "from lib_json import open_json, save_json\n",
    "from lib_visual import imprime_mapa\n",
    "from lib_pandas import lee_geodf\n",
    "#from lib_visual import imprime_kepler NO FUNCIONA\n",
    "from folium import  Marker, Icon, Map\n",
    "import pandas as pd\n",
    "from cartoframes.viz import Map, Layer, popup_element\n",
    "\n",
    "# recupero las 3 elecciones desde el archivo\n",
    "data = open_json('./json/top3.json')\n",
    "#creamos un gdf\n",
    "gdf = lee_geodf(data) \n",
    "\n",
    "#imprime_kepler(gdf) #no me funciona kepler\n",
    "# kepler no me ha instalado bien pero lo he usado desde web con los json\n"
   ]
  },
  {
   "cell_type": "code",
   "execution_count": 10,
   "metadata": {},
   "outputs": [],
   "source": [
    "#creamos el mapa para cada uno de los del podio\n",
    "for i,loc in enumerate(data):\n",
    "    Map(location=[loc['latitud'], loc['longitud']], popup_hover = [popup_element(\"name\", \"Empresas\")])\n",
    "    #lo ardamos en \"data\"\n",
    "    data[i]['mapa'] = imprime_mapa(loc['latitud'], loc['longitud'])"
   ]
  },
  {
   "cell_type": "code",
   "execution_count": 11,
   "id": "applicable-photographer",
   "metadata": {},
   "outputs": [],
   "source": [
    "#imprimimos y salvmaos\n",
    "data[0]['mapa']\n",
    "data[0]['mapa'].save(f\"./maps/mapa0_{data[0]['name']}.html\")"
   ]
  },
  {
   "cell_type": "code",
   "execution_count": 12,
   "id": "powered-event",
   "metadata": {},
   "outputs": [],
   "source": [
    "#imprimimos y salvmaos\n",
    "data[1]['mapa']\n",
    "data[1]['mapa'].save(f\"./maps/mapa1_{data[1]['name']}.html\")"
   ]
  },
  {
   "cell_type": "code",
   "execution_count": 13,
   "id": "violent-gross",
   "metadata": {},
   "outputs": [],
   "source": [
    "#imprimimos y salvmaos\n",
    "data[2]['mapa']\n",
    "data[2]['mapa'].save(f\"./maps/mapa2_{data[2]['name']}.html\")"
   ]
  },
  {
   "cell_type": "code",
   "execution_count": null,
   "metadata": {},
   "outputs": [],
   "source": []
  }
 ],
 "metadata": {
  "kernelspec": {
   "display_name": "kepler",
   "language": "python",
   "name": "kepler"
  },
  "language_info": {
   "codemirror_mode": {
    "name": "ipython",
    "version": 3
   },
   "file_extension": ".py",
   "mimetype": "text/x-python",
   "name": "python",
   "nbconvert_exporter": "python",
   "pygments_lexer": "ipython3",
   "version": "3.8.5-final"
  }
 },
 "nbformat": 4,
 "nbformat_minor": 5
}