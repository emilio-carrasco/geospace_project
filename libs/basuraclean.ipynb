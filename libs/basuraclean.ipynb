{
 "cells": [
  {
   "cell_type": "code",
   "execution_count": 1,
   "id": "ahead-burning",
   "metadata": {
    "scrolled": true,
    "tags": []
   },
   "outputs": [
    {
     "output_type": "error",
     "ename": "SyntaxError",
     "evalue": "invalid syntax (<ipython-input-1-c942ac00be54>, line 8)",
     "traceback": [
      "\u001b[0;36m  File \u001b[0;32m\"<ipython-input-1-c942ac00be54>\"\u001b[0;36m, line \u001b[0;32m8\u001b[0m\n\u001b[0;31m    df ranking1M():\u001b[0m\n\u001b[0m       ^\u001b[0m\n\u001b[0;31mSyntaxError\u001b[0m\u001b[0;31m:\u001b[0m invalid syntax\n"
     ]
    }
   ],
   "source": [
    "\n",
    "from lib_mongo import companies_tec_1M_mongo\n",
    "\n",
    "from lib_calculus import latlon2pnt, flat_latlon, latlon_dist,top\n",
    "\n",
    "\n",
    "from lib_pandas import create_distance_df,  calculate_distances_df,calculate_inv_distances_df,leave_20\n",
    "\n",
    "def ranking1M():\n",
    "    df_companies = companies_tec_1M_mongo(\"geoproyect\",\"companies\")\n",
    "    lista_officinas_latlon = flat_latlon(list(df_companies['offices']))\n",
    "    df = create_distance_df(lista_officinas_latlon)\n",
    "    dict_rate_distance = calculate_inv_distances_df(df,lista_officinas_latlon)\n",
    "    print(dict_rate_distance)\n",
    "    return top20_oficinas"
   ]
  },
  {
   "cell_type": "code",
   "execution_count": null,
   "metadata": {},
   "outputs": [],
   "source": []
  }
 ],
 "metadata": {
  "kernelspec": {
   "display_name": "geo",
   "language": "python",
   "name": "geo"
  },
  "language_info": {
   "codemirror_mode": {
    "name": "ipython",
    "version": 3
   },
   "file_extension": ".py",
   "mimetype": "text/x-python",
   "name": "python",
   "nbconvert_exporter": "python",
   "pygments_lexer": "ipython3",
   "version": "3.8.5-final"
  }
 },
 "nbformat": 4,
 "nbformat_minor": 5
}